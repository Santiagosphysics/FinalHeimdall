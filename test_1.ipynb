{
 "cells": [
  {
   "cell_type": "code",
   "execution_count": 43,
   "id": "b8cb4a6f",
   "metadata": {},
   "outputs": [],
   "source": [
    "from binance.client import Client\n",
    "import matplotlib.pyplot as plt\n",
    "import pandas as pd\n",
    "import numpy as np "
   ]
  },
  {
   "cell_type": "code",
   "execution_count": 44,
   "id": "08a18bf8",
   "metadata": {},
   "outputs": [],
   "source": [
    "def donwload_data(start_time, end_time, crypto, time):\n",
    "\n",
    "    data_time = {'minutes':Client.KLINE_INTERVAL_1MINUTE,'seconds':Client.KLINE_INTERVAL_1SECOND,'hours':Client.KLINE_INTERVAL_1HOUR,}\n",
    "    if time not in data_time:\n",
    "        raise ValueError(f'El parámetro {time} no está en las opciones {data_time}')\n",
    "    api_key  = \"\"\n",
    "    api_secret = \"\"\n",
    "    client = Client(api_key, api_secret)\n",
    "    start_time_ms = int(pd.Timestamp(start_time).timestamp()*1000)\n",
    "    end_time_ms = int(pd.Timestamp(end_time).timestamp()*1000)\n",
    "\n",
    "    all_candles = []\n",
    "\n",
    "    current_start_time = start_time_ms\n",
    "\n",
    "    while current_start_time < end_time_ms:\n",
    "        \n",
    "        candles = client.get_klines(symbol=crypto, interval = data_time[time], startTime=current_start_time, endTime=end_time_ms, limit = 1000)\n",
    "        if not candles:\n",
    "            break\n",
    "\n",
    "        all_candles.extend(candles)\n",
    "        current_start_time = candles[-1][6] + 1 \n",
    "\n",
    "    columns = [ 'open_time', 'open', 'high', 'low', 'close', 'volume', 'close_time', 'quote_asset_volume', 'number_of_trades', 'taker_buy_base_asset_volume', 'taker_buy_quote_asset_volume', 'ignore']\n",
    "    \n",
    "    df = pd.DataFrame(all_candles, columns=columns)    \n",
    "    df['open_time'] = pd.to_datetime(df['open_time'], unit='ms')    \n",
    "    df['close_time'] = pd.to_datetime(df['close_time'], unit='ms')\n",
    "\n",
    "    df['close'] = df['close'].astype(float)\n",
    "    df['open'] = df['open'].astype(float)\n",
    "\n",
    "    return df"
   ]
  },
  {
   "cell_type": "code",
   "execution_count": 66,
   "id": "93486dda",
   "metadata": {},
   "outputs": [
    {
     "data": {
      "text/plain": [
       "['.git',\n",
       " 'utils.py',\n",
       " 'mi_entorno',\n",
       " 'test_1.ipynb',\n",
       " '__pycache__',\n",
       " 'requirements.txt',\n",
       " 'main.py']"
      ]
     },
     "execution_count": 66,
     "metadata": {},
     "output_type": "execute_result"
    }
   ],
   "source": [
    "import os \n",
    "os.listdir()"
   ]
  },
  {
   "cell_type": "code",
   "execution_count": 67,
   "id": "7a8609b5",
   "metadata": {},
   "outputs": [],
   "source": [
    "import sys\n",
    "sys.path.append('.')"
   ]
  },
  {
   "cell_type": "code",
   "execution_count": 73,
   "id": "a82208b4",
   "metadata": {},
   "outputs": [
    {
     "ename": "ImportError",
     "evalue": "cannot import name 'get_data_crypto' from 'utils' (/workspaces/FinalHeimdall/utils.py)",
     "output_type": "error",
     "traceback": [
      "\u001b[31m---------------------------------------------------------------------------\u001b[39m",
      "\u001b[31mImportError\u001b[39m                               Traceback (most recent call last)",
      "\u001b[36mCell\u001b[39m\u001b[36m \u001b[39m\u001b[32mIn[73]\u001b[39m\u001b[32m, line 1\u001b[39m\n\u001b[32m----> \u001b[39m\u001b[32m1\u001b[39m \u001b[38;5;28;01mfrom\u001b[39;00m\u001b[38;5;250m \u001b[39m\u001b[34;01mutils\u001b[39;00m\u001b[38;5;250m \u001b[39m\u001b[38;5;28;01mimport\u001b[39;00m get_data_crypto\n",
      "\u001b[31mImportError\u001b[39m: cannot import name 'get_data_crypto' from 'utils' (/workspaces/FinalHeimdall/utils.py)"
     ]
    }
   ],
   "source": [
    "from utils import get_data_crypto"
   ]
  },
  {
   "cell_type": "code",
   "execution_count": 35,
   "id": "f637d13b",
   "metadata": {},
   "outputs": [
    {
     "ename": "BinanceAPIException",
     "evalue": "APIError(code=0): Service unavailable from a restricted location according to 'b. Eligibility' in https://www.binance.com/en/terms. Please contact customer service if you believe you received this message in error.",
     "output_type": "error",
     "traceback": [
      "\u001b[31m---------------------------------------------------------------------------\u001b[39m",
      "\u001b[31mBinanceAPIException\u001b[39m                       Traceback (most recent call last)",
      "\u001b[32m/tmp/ipykernel_2679/3117036067.py\u001b[39m in \u001b[36m?\u001b[39m\u001b[34m()\u001b[39m\n\u001b[32m----> \u001b[39m\u001b[32m1\u001b[39m data = donwload_data(start_time=\u001b[33m'2025-04-26'\u001b[39m, end_time=\u001b[33m'2025-04-27'\u001b[39m, crypto=\u001b[33m\"BNBUSDT\"\u001b[39m, time=\u001b[33m'seconds'\u001b[39m)\n",
      "\u001b[32m/workspaces/FinalHeimdall/utils.py\u001b[39m in \u001b[36m?\u001b[39m\u001b[34m(start_time, end_time, crypto, time)\u001b[39m\n\u001b[32m     10\u001b[39m     \u001b[38;5;28;01mif\u001b[39;00m time \u001b[38;5;28;01mnot\u001b[39;00m \u001b[38;5;28;01min\u001b[39;00m data_time:\n\u001b[32m     11\u001b[39m         \u001b[38;5;28;01mraise\u001b[39;00m ValueError(f'El parámetro {time} no está en las opciones {data_time}')\n\u001b[32m     12\u001b[39m     api_key  = \u001b[33m\"\"\u001b[39m\n\u001b[32m     13\u001b[39m     api_secret = \u001b[33m\"\"\u001b[39m\n\u001b[32m---> \u001b[39m\u001b[32m14\u001b[39m     client = Client(api_key, api_secret)\n\u001b[32m     15\u001b[39m     start_time_ms = int(pd.Timestamp(start_time).timestamp()*\u001b[32m1000\u001b[39m)\n\u001b[32m     16\u001b[39m     end_time_ms = int(pd.Timestamp(end_time).timestamp()*\u001b[32m1000\u001b[39m)\n\u001b[32m     17\u001b[39m \n",
      "\u001b[32m/workspaces/FinalHeimdall/mi_entorno/lib/python3.12/site-packages/binance/client.py\u001b[39m in \u001b[36m?\u001b[39m\u001b[34m(self, api_key, api_secret, requests_params, tld, base_endpoint, testnet, private_key, private_key_pass, ping, time_unit)\u001b[39m\n\u001b[32m     47\u001b[39m         )\n\u001b[32m     48\u001b[39m \n\u001b[32m     49\u001b[39m         \u001b[38;5;66;03m# init DNS and SSL cert\u001b[39;00m\n\u001b[32m     50\u001b[39m         \u001b[38;5;28;01mif\u001b[39;00m ping:\n\u001b[32m---> \u001b[39m\u001b[32m51\u001b[39m             self.ping()\n",
      "\u001b[32m/workspaces/FinalHeimdall/mi_entorno/lib/python3.12/site-packages/binance/client.py\u001b[39m in \u001b[36m?\u001b[39m\u001b[34m(self)\u001b[39m\n\u001b[32m    340\u001b[39m \n\u001b[32m    341\u001b[39m         :raises: BinanceRequestException, BinanceAPIException\n\u001b[32m    342\u001b[39m \n\u001b[32m    343\u001b[39m         \"\"\"\n\u001b[32m--> \u001b[39m\u001b[32m344\u001b[39m         \u001b[38;5;28;01mreturn\u001b[39;00m self._get(\u001b[33m\"ping\"\u001b[39m, version=self.PRIVATE_API_VERSION)\n",
      "\u001b[32m/workspaces/FinalHeimdall/mi_entorno/lib/python3.12/site-packages/binance/client.py\u001b[39m in \u001b[36m?\u001b[39m\u001b[34m(self, path, signed, version, **kwargs)\u001b[39m\n\u001b[32m    179\u001b[39m     \u001b[38;5;28;01mdef\u001b[39;00m _get(self, path, signed=\u001b[38;5;28;01mFalse\u001b[39;00m, version=BaseClient.PUBLIC_API_VERSION, **kwargs):\n\u001b[32m--> \u001b[39m\u001b[32m180\u001b[39m         \u001b[38;5;28;01mreturn\u001b[39;00m self._request_api(\u001b[33m\"get\"\u001b[39m, path, signed, version, **kwargs)\n",
      "\u001b[32m/workspaces/FinalHeimdall/mi_entorno/lib/python3.12/site-packages/binance/client.py\u001b[39m in \u001b[36m?\u001b[39m\u001b[34m(self, method, path, signed, version, **kwargs)\u001b[39m\n\u001b[32m    113\u001b[39m         version=BaseClient.PUBLIC_API_VERSION,\n\u001b[32m    114\u001b[39m         **kwargs,\n\u001b[32m    115\u001b[39m     ):\n\u001b[32m    116\u001b[39m         uri = self._create_api_uri(path, signed, version)\n\u001b[32m--> \u001b[39m\u001b[32m117\u001b[39m         \u001b[38;5;28;01mreturn\u001b[39;00m self._request(method, uri, signed, **kwargs)\n",
      "\u001b[32m/workspaces/FinalHeimdall/mi_entorno/lib/python3.12/site-packages/binance/client.py\u001b[39m in \u001b[36m?\u001b[39m\u001b[34m(self, method, uri, signed, force_params, **kwargs)\u001b[39m\n\u001b[32m     85\u001b[39m             url_encoded_data = urlencode(dict_data)\n\u001b[32m     86\u001b[39m             data = f\"{url_encoded_data}&signature={signature}\"\n\u001b[32m     87\u001b[39m \n\u001b[32m     88\u001b[39m         self.response = getattr(self.session, method)(uri, headers=headers, data=data, **kwargs)\n\u001b[32m---> \u001b[39m\u001b[32m89\u001b[39m         \u001b[38;5;28;01mreturn\u001b[39;00m self._handle_response(self.response)\n",
      "\u001b[32m/workspaces/FinalHeimdall/mi_entorno/lib/python3.12/site-packages/binance/client.py\u001b[39m in \u001b[36m?\u001b[39m\u001b[34m(response)\u001b[39m\n\u001b[32m     94\u001b[39m         Raises the appropriate exceptions when necessary; otherwise, returns the\n\u001b[32m     95\u001b[39m         response.\n\u001b[32m     96\u001b[39m         \"\"\"\n\u001b[32m     97\u001b[39m         \u001b[38;5;28;01mif\u001b[39;00m \u001b[38;5;28;01mnot\u001b[39;00m (\u001b[32m200\u001b[39m <= response.status_code < \u001b[32m300\u001b[39m):\n\u001b[32m---> \u001b[39m\u001b[32m98\u001b[39m             \u001b[38;5;28;01mraise\u001b[39;00m BinanceAPIException(response, response.status_code, response.text)\n\u001b[32m     99\u001b[39m \n\u001b[32m    100\u001b[39m         \u001b[38;5;28;01mif\u001b[39;00m response.text == \u001b[33m\"\"\u001b[39m:\n\u001b[32m    101\u001b[39m             \u001b[38;5;28;01mreturn\u001b[39;00m {}\n",
      "\u001b[31mBinanceAPIException\u001b[39m: APIError(code=0): Service unavailable from a restricted location according to 'b. Eligibility' in https://www.binance.com/en/terms. Please contact customer service if you believe you received this message in error."
     ]
    }
   ],
   "source": [
    "\n",
    "data = donwload_data(start_time='2025-04-26', end_time='2025-04-27', crypto=\"BNBUSDT\", time='seconds')"
   ]
  },
  {
   "cell_type": "code",
   "execution_count": 15,
   "id": "d7a5143c",
   "metadata": {},
   "outputs": [
    {
     "ename": "BinanceAPIException",
     "evalue": "APIError(code=0): Service unavailable from a restricted location according to 'b. Eligibility' in https://www.binance.com/en/terms. Please contact customer service if you believe you received this message in error.",
     "output_type": "error",
     "traceback": [
      "\u001b[31m---------------------------------------------------------------------------\u001b[39m",
      "\u001b[31mBinanceAPIException\u001b[39m                       Traceback (most recent call last)",
      "\u001b[32m/tmp/ipykernel_2679/460865797.py\u001b[39m in \u001b[36m?\u001b[39m\u001b[34m()\u001b[39m\n\u001b[32m      1\u001b[39m \u001b[38;5;28;01mimport\u001b[39;00m pandas \u001b[38;5;28;01mas\u001b[39;00m pd\n\u001b[32m      2\u001b[39m \u001b[38;5;28;01mfrom\u001b[39;00m prophet \u001b[38;5;28;01mimport\u001b[39;00m Prophet\n\u001b[32m      3\u001b[39m \u001b[38;5;28;01mimport\u001b[39;00m matplotlib.pyplot \u001b[38;5;28;01mas\u001b[39;00m plt\n\u001b[32m      4\u001b[39m \n\u001b[32m----> \u001b[39m\u001b[32m5\u001b[39m data = donwload_data(start_time=\u001b[33m'2025-04-26'\u001b[39m, end_time=\u001b[33m'2025-04-27'\u001b[39m, crypto=\u001b[33m\"BNBUSDT\"\u001b[39m, time=\u001b[33m'seconds'\u001b[39m)\n\u001b[32m      6\u001b[39m \n\u001b[32m      7\u001b[39m df = data[[\u001b[33m'close_time'\u001b[39m, \u001b[33m'close'\u001b[39m]].rename(columns={\u001b[33m'close_time'\u001b[39m: \u001b[33m'ds'\u001b[39m, \u001b[33m'close'\u001b[39m: \u001b[33m'y'\u001b[39m})\n\u001b[32m      8\u001b[39m \n",
      "\u001b[32m/tmp/ipykernel_2679/3379636170.py\u001b[39m in \u001b[36m?\u001b[39m\u001b[34m(start_time, end_time, crypto, time)\u001b[39m\n\u001b[32m      4\u001b[39m     \u001b[38;5;28;01mif\u001b[39;00m time \u001b[38;5;28;01mnot\u001b[39;00m \u001b[38;5;28;01min\u001b[39;00m data_time:\n\u001b[32m      5\u001b[39m         \u001b[38;5;28;01mraise\u001b[39;00m ValueError(f'El parámetro {time} no está en las opciones {data_time}')\n\u001b[32m      6\u001b[39m     api_key  = \u001b[33m\"\"\u001b[39m\n\u001b[32m      7\u001b[39m     api_secret = \u001b[33m\"\"\u001b[39m\n\u001b[32m----> \u001b[39m\u001b[32m8\u001b[39m     client = Client(api_key, api_secret)\n\u001b[32m      9\u001b[39m     start_time_ms = int(pd.Timestamp(start_time).timestamp()*\u001b[32m1000\u001b[39m)\n\u001b[32m     10\u001b[39m     end_time_ms = int(pd.Timestamp(end_time).timestamp()*\u001b[32m1000\u001b[39m)\n\u001b[32m     11\u001b[39m \n",
      "\u001b[32m/workspaces/FinalHeimdall/mi_entorno/lib/python3.12/site-packages/binance/client.py\u001b[39m in \u001b[36m?\u001b[39m\u001b[34m(self, api_key, api_secret, requests_params, tld, base_endpoint, testnet, private_key, private_key_pass, ping, time_unit)\u001b[39m\n\u001b[32m     47\u001b[39m         )\n\u001b[32m     48\u001b[39m \n\u001b[32m     49\u001b[39m         \u001b[38;5;66;03m# init DNS and SSL cert\u001b[39;00m\n\u001b[32m     50\u001b[39m         \u001b[38;5;28;01mif\u001b[39;00m ping:\n\u001b[32m---> \u001b[39m\u001b[32m51\u001b[39m             self.ping()\n",
      "\u001b[32m/workspaces/FinalHeimdall/mi_entorno/lib/python3.12/site-packages/binance/client.py\u001b[39m in \u001b[36m?\u001b[39m\u001b[34m(self)\u001b[39m\n\u001b[32m    340\u001b[39m \n\u001b[32m    341\u001b[39m         :raises: BinanceRequestException, BinanceAPIException\n\u001b[32m    342\u001b[39m \n\u001b[32m    343\u001b[39m         \"\"\"\n\u001b[32m--> \u001b[39m\u001b[32m344\u001b[39m         \u001b[38;5;28;01mreturn\u001b[39;00m self._get(\u001b[33m\"ping\"\u001b[39m, version=self.PRIVATE_API_VERSION)\n",
      "\u001b[32m/workspaces/FinalHeimdall/mi_entorno/lib/python3.12/site-packages/binance/client.py\u001b[39m in \u001b[36m?\u001b[39m\u001b[34m(self, path, signed, version, **kwargs)\u001b[39m\n\u001b[32m    179\u001b[39m     \u001b[38;5;28;01mdef\u001b[39;00m _get(self, path, signed=\u001b[38;5;28;01mFalse\u001b[39;00m, version=BaseClient.PUBLIC_API_VERSION, **kwargs):\n\u001b[32m--> \u001b[39m\u001b[32m180\u001b[39m         \u001b[38;5;28;01mreturn\u001b[39;00m self._request_api(\u001b[33m\"get\"\u001b[39m, path, signed, version, **kwargs)\n",
      "\u001b[32m/workspaces/FinalHeimdall/mi_entorno/lib/python3.12/site-packages/binance/client.py\u001b[39m in \u001b[36m?\u001b[39m\u001b[34m(self, method, path, signed, version, **kwargs)\u001b[39m\n\u001b[32m    113\u001b[39m         version=BaseClient.PUBLIC_API_VERSION,\n\u001b[32m    114\u001b[39m         **kwargs,\n\u001b[32m    115\u001b[39m     ):\n\u001b[32m    116\u001b[39m         uri = self._create_api_uri(path, signed, version)\n\u001b[32m--> \u001b[39m\u001b[32m117\u001b[39m         \u001b[38;5;28;01mreturn\u001b[39;00m self._request(method, uri, signed, **kwargs)\n",
      "\u001b[32m/workspaces/FinalHeimdall/mi_entorno/lib/python3.12/site-packages/binance/client.py\u001b[39m in \u001b[36m?\u001b[39m\u001b[34m(self, method, uri, signed, force_params, **kwargs)\u001b[39m\n\u001b[32m     85\u001b[39m             url_encoded_data = urlencode(dict_data)\n\u001b[32m     86\u001b[39m             data = f\"{url_encoded_data}&signature={signature}\"\n\u001b[32m     87\u001b[39m \n\u001b[32m     88\u001b[39m         self.response = getattr(self.session, method)(uri, headers=headers, data=data, **kwargs)\n\u001b[32m---> \u001b[39m\u001b[32m89\u001b[39m         \u001b[38;5;28;01mreturn\u001b[39;00m self._handle_response(self.response)\n",
      "\u001b[32m/workspaces/FinalHeimdall/mi_entorno/lib/python3.12/site-packages/binance/client.py\u001b[39m in \u001b[36m?\u001b[39m\u001b[34m(response)\u001b[39m\n\u001b[32m     94\u001b[39m         Raises the appropriate exceptions when necessary; otherwise, returns the\n\u001b[32m     95\u001b[39m         response.\n\u001b[32m     96\u001b[39m         \"\"\"\n\u001b[32m     97\u001b[39m         \u001b[38;5;28;01mif\u001b[39;00m \u001b[38;5;28;01mnot\u001b[39;00m (\u001b[32m200\u001b[39m <= response.status_code < \u001b[32m300\u001b[39m):\n\u001b[32m---> \u001b[39m\u001b[32m98\u001b[39m             \u001b[38;5;28;01mraise\u001b[39;00m BinanceAPIException(response, response.status_code, response.text)\n\u001b[32m     99\u001b[39m \n\u001b[32m    100\u001b[39m         \u001b[38;5;28;01mif\u001b[39;00m response.text == \u001b[33m\"\"\u001b[39m:\n\u001b[32m    101\u001b[39m             \u001b[38;5;28;01mreturn\u001b[39;00m {}\n",
      "\u001b[31mBinanceAPIException\u001b[39m: APIError(code=0): Service unavailable from a restricted location according to 'b. Eligibility' in https://www.binance.com/en/terms. Please contact customer service if you believe you received this message in error."
     ]
    }
   ],
   "source": [
    "import pandas as pd\n",
    "from prophet import Prophet\n",
    "import matplotlib.pyplot as plt\n",
    "\n",
    "data = donwload_data(start_time='2025-04-26', end_time='2025-04-27', crypto=\"BNBUSDT\", time='seconds')\n",
    "\n",
    "df = data[['close_time', 'close']].rename(columns={'close_time': 'ds', 'close': 'y'})\n",
    "\n",
    "model = Prophet(daily_seasonality=True)\n",
    "model.fit(df)\n",
    "\n",
    "# future = model.make_future_dataframe(periods=24*60*60, freq='S')  \n",
    "future = model.make_future_dataframe(periods=24*60, freq='min') \n",
    "\n",
    "forecast = model.predict(future)\n",
    "\n",
    "fig1 = model.plot(forecast)\n",
    "plt.title('Predicción de precio para las próximas 24 horas')\n",
    "plt.xlabel('Fecha')\n",
    "plt.ylabel('Precio de cierre')\n",
    "plt.show()\n",
    "\n"
   ]
  },
  {
   "cell_type": "code",
   "execution_count": 45,
   "id": "1215ecdb",
   "metadata": {},
   "outputs": [
    {
     "name": "stdout",
     "output_type": "stream",
     "text": [
      "**************************************************  DATA DOWNLOADED  **************************************************\n"
     ]
    },
    {
     "name": "stderr",
     "output_type": "stream",
     "text": [
      "C:\\Users\\santi\\AppData\\Local\\Temp\\ipykernel_21132\\789351349.py:28: FutureWarning: 'S' is deprecated and will be removed in a future version, please use 's' instead.\n",
      "  future_dates = pd.date_range(start=df['ds'].max() + pd.Timedelta(seconds=1), periods=24*60*60, freq='S')\n"
     ]
    }
   ],
   "source": [
    "import pandas as pd\n",
    "import numpy as np\n",
    "import xgboost as xgb\n",
    "import matplotlib.pyplot as plt\n",
    "from sklearn.model_selection import train_test_split\n",
    "from sklearn.metrics import mean_squared_error\n",
    "\n",
    "# 1. Descargar datos\n",
    "data = donwload_data(start_time='2025-03-01 00:00:00', end_time='2025-04-28 00:00:00', crypto=\"BNBUSDT\", time='seconds')\n",
    "df = data[['close_time', 'close']].rename(columns={'close_time': 'ds', 'close': 'y'})\n",
    "print('*'*50, ' DATA DOWNLOADED ', '*'*50)\n",
    "\n",
    "# 2. Crear características de tiempo\n",
    "df['hour'] = df['ds'].dt.hour\n",
    "df['minute'] = df['ds'].dt.minute\n",
    "df['second'] = df['ds'].dt.second\n",
    "df['dayofweek'] = df['ds'].dt.dayofweek\n",
    "df['day'] = df['ds'].dt.day\n",
    "\n",
    "X = df[['hour', 'minute', 'second', 'dayofweek', 'day']]\n",
    "y = df['y']\n",
    "\n",
    "# 3. Entrenar el modelo\n",
    "model = xgb.XGBRegressor(objective='reg:squarederror', n_estimators=100, learning_rate=0.1)\n",
    "model.fit(X, y)\n",
    "\n",
    "# 4. Crear las próximas 24 horas en segundos\n",
    "future_dates = pd.date_range(start=df['ds'].max() + pd.Timedelta(seconds=1), periods=24*60*60, freq='S')\n",
    "\n",
    "future_df = pd.DataFrame({'ds': future_dates})\n",
    "\n",
    "# 5. Crear características de tiempo para el futuro\n",
    "future_df['hour'] = future_df['ds'].dt.hour\n",
    "future_df['minute'] = future_df['ds'].dt.minute\n",
    "future_df['second'] = future_df['ds'].dt.second\n",
    "future_df['dayofweek'] = future_df['ds'].dt.dayofweek\n",
    "future_df['day'] = future_df['ds'].dt.day\n",
    "\n",
    "X_future = future_df[['hour', 'minute', 'second', 'dayofweek', 'day']]\n",
    "\n",
    "# 6. Predecir el futuro\n",
    "future_preds = model.predict(X_future)\n",
    "\n",
    "\n"
   ]
  },
  {
   "cell_type": "code",
   "execution_count": 46,
   "id": "51d6c730",
   "metadata": {},
   "outputs": [
    {
     "data": {
      "image/png": "[encoded data removed]",
      "text/plain": [
       "<Figure size 1500x500 with 1 Axes>"
      ]
     },
     "metadata": {},
     "output_type": "display_data"
    }
   ],
   "source": [
    "plt.figure(figsize=(15,5))\n",
    "plt.plot(future_df['ds'], future_preds, label='Predicted Future Prices', color='r')\n",
    "plt.plot(df['ds'], df['y'], label = 'real_price')\n",
    "plt.title('Predicción de precio para las próximas 24 horas')\n",
    "plt.xlabel('Fecha')\n",
    "plt.ylabel('Precio')\n",
    "plt.legend()\n",
    "plt.show()"
   ]
  },
  {
   "cell_type": "code",
   "execution_count": 48,
   "id": "85893a07",
   "metadata": {},
   "outputs": [],
   "source": [
    "predicted_prices = future_df.copy()\n",
    "predicted_prices['Predicted Price'] = future_preds\n",
    "\n"
   ]
  },
  {
   "cell_type": "code",
   "execution_count": 50,
   "id": "f4d28631",
   "metadata": {},
   "outputs": [
    {
     "data": {
      "text/html": [
       "<div>\n",
       "<style scoped>\n",
       "    .dataframe tbody tr th:only-of-type {\n",
       "        vertical-align: middle;\n",
       "    }\n",
       "\n",
       "    .dataframe tbody tr th {\n",
       "        vertical-align: top;\n",
       "    }\n",
       "\n",
       "    .dataframe thead th {\n",
       "        text-align: right;\n",
       "    }\n",
       "</style>\n",
       "<table border=\"1\" class=\"dataframe\">\n",
       "  <thead>\n",
       "    <tr style=\"text-align: right;\">\n",
       "      <th></th>\n",
       "      <th>ds</th>\n",
       "      <th>hour</th>\n",
       "      <th>minute</th>\n",
       "      <th>second</th>\n",
       "      <th>dayofweek</th>\n",
       "      <th>day</th>\n",
       "      <th>Predicted Price</th>\n",
       "    </tr>\n",
       "  </thead>\n",
       "  <tbody>\n",
       "    <tr>\n",
       "      <th>25799</th>\n",
       "      <td>2025-04-28 07:10:00.999</td>\n",
       "      <td>7</td>\n",
       "      <td>10</td>\n",
       "      <td>0</td>\n",
       "      <td>0</td>\n",
       "      <td>28</td>\n",
       "      <td>600.878235</td>\n",
       "    </tr>\n",
       "  </tbody>\n",
       "</table>\n",
       "</div>"
      ],
      "text/plain": [
       "                           ds  hour  minute  second  dayofweek  day  \\\n",
       "25799 2025-04-28 07:10:00.999     7      10       0          0   28   \n",
       "\n",
       "       Predicted Price  \n",
       "25799       600.878235  "
      ]
     },
     "execution_count": 50,
     "metadata": {},
     "output_type": "execute_result"
    }
   ],
   "source": [
    "predicted_prices[predicted_prices['ds']=='2025-04-28 07:10:00.999']"
   ]
  },
  {
   "cell_type": "code",
   "execution_count": 51,
   "id": "a9c7d020",
   "metadata": {},
   "outputs": [
    {
     "data": {
      "text/html": [
       "<div>\n",
       "<style scoped>\n",
       "    .dataframe tbody tr th:only-of-type {\n",
       "        vertical-align: middle;\n",
       "    }\n",
       "\n",
       "    .dataframe tbody tr th {\n",
       "        vertical-align: top;\n",
       "    }\n",
       "\n",
       "    .dataframe thead th {\n",
       "        text-align: right;\n",
       "    }\n",
       "</style>\n",
       "<table border=\"1\" class=\"dataframe\">\n",
       "  <thead>\n",
       "    <tr style=\"text-align: right;\">\n",
       "      <th></th>\n",
       "      <th>ds</th>\n",
       "      <th>hour</th>\n",
       "      <th>minute</th>\n",
       "      <th>second</th>\n",
       "      <th>dayofweek</th>\n",
       "      <th>day</th>\n",
       "      <th>Predicted Price</th>\n",
       "    </tr>\n",
       "  </thead>\n",
       "  <tbody>\n",
       "    <tr>\n",
       "      <th>0</th>\n",
       "      <td>2025-04-28 00:00:01.999</td>\n",
       "      <td>0</td>\n",
       "      <td>0</td>\n",
       "      <td>1</td>\n",
       "      <td>0</td>\n",
       "      <td>28</td>\n",
       "      <td>609.364990</td>\n",
       "    </tr>\n",
       "    <tr>\n",
       "      <th>1</th>\n",
       "      <td>2025-04-28 00:00:02.999</td>\n",
       "      <td>0</td>\n",
       "      <td>0</td>\n",
       "      <td>2</td>\n",
       "      <td>0</td>\n",
       "      <td>28</td>\n",
       "      <td>609.364990</td>\n",
       "    </tr>\n",
       "    <tr>\n",
       "      <th>2</th>\n",
       "      <td>2025-04-28 00:00:03.999</td>\n",
       "      <td>0</td>\n",
       "      <td>0</td>\n",
       "      <td>3</td>\n",
       "      <td>0</td>\n",
       "      <td>28</td>\n",
       "      <td>609.364990</td>\n",
       "    </tr>\n",
       "    <tr>\n",
       "      <th>3</th>\n",
       "      <td>2025-04-28 00:00:04.999</td>\n",
       "      <td>0</td>\n",
       "      <td>0</td>\n",
       "      <td>4</td>\n",
       "      <td>0</td>\n",
       "      <td>28</td>\n",
       "      <td>609.364990</td>\n",
       "    </tr>\n",
       "    <tr>\n",
       "      <th>4</th>\n",
       "      <td>2025-04-28 00:00:05.999</td>\n",
       "      <td>0</td>\n",
       "      <td>0</td>\n",
       "      <td>5</td>\n",
       "      <td>0</td>\n",
       "      <td>28</td>\n",
       "      <td>609.364990</td>\n",
       "    </tr>\n",
       "    <tr>\n",
       "      <th>...</th>\n",
       "      <td>...</td>\n",
       "      <td>...</td>\n",
       "      <td>...</td>\n",
       "      <td>...</td>\n",
       "      <td>...</td>\n",
       "      <td>...</td>\n",
       "      <td>...</td>\n",
       "    </tr>\n",
       "    <tr>\n",
       "      <th>86395</th>\n",
       "      <td>2025-04-28 23:59:56.999</td>\n",
       "      <td>23</td>\n",
       "      <td>59</td>\n",
       "      <td>56</td>\n",
       "      <td>0</td>\n",
       "      <td>28</td>\n",
       "      <td>605.250305</td>\n",
       "    </tr>\n",
       "    <tr>\n",
       "      <th>86396</th>\n",
       "      <td>2025-04-28 23:59:57.999</td>\n",
       "      <td>23</td>\n",
       "      <td>59</td>\n",
       "      <td>57</td>\n",
       "      <td>0</td>\n",
       "      <td>28</td>\n",
       "      <td>605.250305</td>\n",
       "    </tr>\n",
       "    <tr>\n",
       "      <th>86397</th>\n",
       "      <td>2025-04-28 23:59:58.999</td>\n",
       "      <td>23</td>\n",
       "      <td>59</td>\n",
       "      <td>58</td>\n",
       "      <td>0</td>\n",
       "      <td>28</td>\n",
       "      <td>605.250305</td>\n",
       "    </tr>\n",
       "    <tr>\n",
       "      <th>86398</th>\n",
       "      <td>2025-04-28 23:59:59.999</td>\n",
       "      <td>23</td>\n",
       "      <td>59</td>\n",
       "      <td>59</td>\n",
       "      <td>0</td>\n",
       "      <td>28</td>\n",
       "      <td>605.250305</td>\n",
       "    </tr>\n",
       "    <tr>\n",
       "      <th>86399</th>\n",
       "      <td>2025-04-29 00:00:00.999</td>\n",
       "      <td>0</td>\n",
       "      <td>0</td>\n",
       "      <td>0</td>\n",
       "      <td>1</td>\n",
       "      <td>29</td>\n",
       "      <td>641.340149</td>\n",
       "    </tr>\n",
       "  </tbody>\n",
       "</table>\n",
       "<p>86400 rows × 7 columns</p>\n",
       "</div>"
      ],
      "text/plain": [
       "                           ds  hour  minute  second  dayofweek  day  \\\n",
       "0     2025-04-28 00:00:01.999     0       0       1          0   28   \n",
       "1     2025-04-28 00:00:02.999     0       0       2          0   28   \n",
       "2     2025-04-28 00:00:03.999     0       0       3          0   28   \n",
       "3     2025-04-28 00:00:04.999     0       0       4          0   28   \n",
       "4     2025-04-28 00:00:05.999     0       0       5          0   28   \n",
       "...                       ...   ...     ...     ...        ...  ...   \n",
       "86395 2025-04-28 23:59:56.999    23      59      56          0   28   \n",
       "86396 2025-04-28 23:59:57.999    23      59      57          0   28   \n",
       "86397 2025-04-28 23:59:58.999    23      59      58          0   28   \n",
       "86398 2025-04-28 23:59:59.999    23      59      59          0   28   \n",
       "86399 2025-04-29 00:00:00.999     0       0       0          1   29   \n",
       "\n",
       "       Predicted Price  \n",
       "0           609.364990  \n",
       "1           609.364990  \n",
       "2           609.364990  \n",
       "3           609.364990  \n",
       "4           609.364990  \n",
       "...                ...  \n",
       "86395       605.250305  \n",
       "86396       605.250305  \n",
       "86397       605.250305  \n",
       "86398       605.250305  \n",
       "86399       641.340149  \n",
       "\n",
       "[86400 rows x 7 columns]"
      ]
     },
     "execution_count": 51,
     "metadata": {},
     "output_type": "execute_result"
    }
   ],
   "source": [
    "predicted_prices"
   ]
  }
 ],
 "metadata": {
  "kernelspec": {
   "display_name": "mi_entorno",
   "language": "python",
   "name": "python3"
  },
  "language_info": {
   "codemirror_mode": {
    "name": "ipython",
    "version": 3
   },
   "file_extension": ".py",
   "mimetype": "text/x-python",
   "name": "python",
   "nbconvert_exporter": "python",
   "pygments_lexer": "ipython3",
   "version": "3.12.1"
  }
 },
 "nbformat": 4,
 "nbformat_minor": 5
}
